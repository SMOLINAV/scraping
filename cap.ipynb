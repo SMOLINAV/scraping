{
  "nbformat": 4,
  "nbformat_minor": 0,
  "metadata": {
    "colab": {
      "provenance": [],
      "authorship_tag": "ABX9TyPB0WBfSR+/JXA2P3+vKn0L",
      "include_colab_link": true
    },
    "kernelspec": {
      "name": "python3",
      "display_name": "Python 3"
    },
    "language_info": {
      "name": "python"
    }
  },
  "cells": [
    {
      "cell_type": "markdown",
      "metadata": {
        "id": "view-in-github",
        "colab_type": "text"
      },
      "source": [
        "<a href=\"https://colab.research.google.com/github/SMOLINAV/scraping/blob/main/cap.ipynb\" target=\"_parent\"><img src=\"https://colab.research.google.com/assets/colab-badge.svg\" alt=\"Open In Colab\"/></a>"
      ]
    },
    {
      "cell_type": "code",
      "execution_count": 5,
      "metadata": {
        "colab": {
          "base_uri": "https://localhost:8080/"
        },
        "id": "Binq4KXLaD1_",
        "outputId": "48518196-d037-445e-e740-2ebc28e14728"
      },
      "outputs": [
        {
          "output_type": "stream",
          "name": "stdout",
          "text": [
            "Ingresa el nombre del país para obtener su capital: Colombia\n",
            "La capital de Colombia es: Bogotá\n"
          ]
        }
      ],
      "source": [
        "# Importar libreria\n",
        "import pandas as pd\n",
        "\n",
        "\n",
        "def extraer_capitales(pais):\n",
        "    '''\n",
        "    esta funcion extrae la capital de un pais dada por el usuario\n",
        "    args:\n",
        "        pais (str): nombre del pais\n",
        "    returns:\n",
        "        capital (str): capital del pais\n",
        "        None (None): si no se encuentra la capital\n",
        "    '''\n",
        "    # URL de la página que contiene la lista de capitales\n",
        "    url = \"https://es.wikipedia.org/wiki/Anexo:Capitales_de_Estado\"\n",
        "\n",
        "    # Leer las tablas de la página\n",
        "    tablas = pd.read_html(url)\n",
        "\n",
        "    # Buscar el país en la primera columna de la primera tabla\n",
        "    for fila in tablas[0].itertuples(index=False):\n",
        "        for elemento in fila:\n",
        "            if str(pais).lower() in str(elemento).lower():\n",
        "                return fila[-3].strip()\n",
        "\n",
        "    # Si no se encontró el país o la capital, devolver None\n",
        "    return None\n",
        "\n",
        "\n",
        "# Pedir al usuario que ingrese el nombre del país\n",
        "nombre_pais = input(\"Ingresa el nombre del país para obtener su capital: \")\n",
        "\n",
        "\n",
        "# Obtener la capital del país ingresado por el usuario\n",
        "capital = extraer_capitales(nombre_pais)\n",
        "\n",
        "if capital:\n",
        "    print(\"La capital de\", nombre_pais, \"es:\", capital)\n",
        "else:\n",
        "    print(\"No se encontró información sobre la capital de\", nombre_pais)\n"
      ]
    }
  ]
}